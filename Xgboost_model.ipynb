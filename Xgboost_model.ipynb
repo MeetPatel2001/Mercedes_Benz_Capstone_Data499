{
 "cells": [
  {
   "cell_type": "code",
   "execution_count": 96,
   "id": "1585f9f3",
   "metadata": {},
   "outputs": [],
   "source": [
    "import pandas as pd\n",
    "import numpy as np"
   ]
  },
  {
   "cell_type": "code",
   "execution_count": 97,
   "id": "e9f8118a",
   "metadata": {},
   "outputs": [],
   "source": [
    "# Exploratory Data Analysis (EDA)\n",
    "\n",
    "#df = pd.read_csv(\"top_21_features_RF.csv\")\n",
    "\n",
    "df = pd.read_csv(\"top_feature_names.csv\")\n",
    "\n",
    "#df = pd.read_csv(\"train.csv\")"
   ]
  },
  {
   "cell_type": "code",
   "execution_count": 98,
   "id": "280a1651",
   "metadata": {},
   "outputs": [
    {
     "data": {
      "text/plain": [
       "Index(['X314', 'X315', 'X119', 'X263', 'X118', 'X127', 'X136', 'y'], dtype='object')"
      ]
     },
     "execution_count": 98,
     "metadata": {},
     "output_type": "execute_result"
    }
   ],
   "source": [
    "df.columns"
   ]
  },
  {
   "cell_type": "code",
   "execution_count": 99,
   "id": "781d0506",
   "metadata": {},
   "outputs": [
    {
     "data": {
      "text/html": [
       "<div>\n",
       "<style scoped>\n",
       "    .dataframe tbody tr th:only-of-type {\n",
       "        vertical-align: middle;\n",
       "    }\n",
       "\n",
       "    .dataframe tbody tr th {\n",
       "        vertical-align: top;\n",
       "    }\n",
       "\n",
       "    .dataframe thead th {\n",
       "        text-align: right;\n",
       "    }\n",
       "</style>\n",
       "<table border=\"1\" class=\"dataframe\">\n",
       "  <thead>\n",
       "    <tr style=\"text-align: right;\">\n",
       "      <th></th>\n",
       "      <th>X314</th>\n",
       "      <th>X315</th>\n",
       "      <th>X119</th>\n",
       "      <th>X263</th>\n",
       "      <th>X118</th>\n",
       "      <th>X127</th>\n",
       "      <th>X136</th>\n",
       "      <th>y</th>\n",
       "    </tr>\n",
       "  </thead>\n",
       "  <tbody>\n",
       "    <tr>\n",
       "      <th>0</th>\n",
       "      <td>0</td>\n",
       "      <td>0</td>\n",
       "      <td>1</td>\n",
       "      <td>1</td>\n",
       "      <td>1</td>\n",
       "      <td>0</td>\n",
       "      <td>1</td>\n",
       "      <td>130.81</td>\n",
       "    </tr>\n",
       "    <tr>\n",
       "      <th>1</th>\n",
       "      <td>0</td>\n",
       "      <td>0</td>\n",
       "      <td>1</td>\n",
       "      <td>1</td>\n",
       "      <td>1</td>\n",
       "      <td>1</td>\n",
       "      <td>1</td>\n",
       "      <td>88.53</td>\n",
       "    </tr>\n",
       "    <tr>\n",
       "      <th>2</th>\n",
       "      <td>0</td>\n",
       "      <td>0</td>\n",
       "      <td>0</td>\n",
       "      <td>0</td>\n",
       "      <td>0</td>\n",
       "      <td>0</td>\n",
       "      <td>0</td>\n",
       "      <td>76.26</td>\n",
       "    </tr>\n",
       "    <tr>\n",
       "      <th>3</th>\n",
       "      <td>0</td>\n",
       "      <td>0</td>\n",
       "      <td>0</td>\n",
       "      <td>0</td>\n",
       "      <td>0</td>\n",
       "      <td>0</td>\n",
       "      <td>0</td>\n",
       "      <td>80.62</td>\n",
       "    </tr>\n",
       "    <tr>\n",
       "      <th>4</th>\n",
       "      <td>0</td>\n",
       "      <td>0</td>\n",
       "      <td>0</td>\n",
       "      <td>0</td>\n",
       "      <td>0</td>\n",
       "      <td>0</td>\n",
       "      <td>0</td>\n",
       "      <td>78.02</td>\n",
       "    </tr>\n",
       "  </tbody>\n",
       "</table>\n",
       "</div>"
      ],
      "text/plain": [
       "   X314  X315  X119  X263  X118  X127  X136       y\n",
       "0     0     0     1     1     1     0     1  130.81\n",
       "1     0     0     1     1     1     1     1   88.53\n",
       "2     0     0     0     0     0     0     0   76.26\n",
       "3     0     0     0     0     0     0     0   80.62\n",
       "4     0     0     0     0     0     0     0   78.02"
      ]
     },
     "execution_count": 99,
     "metadata": {},
     "output_type": "execute_result"
    }
   ],
   "source": [
    "df.head()"
   ]
  },
  {
   "cell_type": "code",
   "execution_count": 100,
   "id": "386a348a",
   "metadata": {},
   "outputs": [
    {
     "name": "stdout",
     "output_type": "stream",
     "text": [
      "RMSE on training set: 8.412021198069311\n",
      "RMSE on test set: 7.978246729703271\n",
      "R^2 score on training set: 56.3 %\n",
      "R^2 score on test set: 59.1 %\n"
     ]
    },
    {
     "name": "stderr",
     "output_type": "stream",
     "text": [
      "/Users/meetpatel/opt/anaconda3/envs/ML/lib/python3.10/site-packages/sklearn/metrics/_regression.py:483: FutureWarning: 'squared' is deprecated in version 1.4 and will be removed in 1.6. To calculate the root mean squared error, use the function'root_mean_squared_error'.\n",
      "  warnings.warn(\n",
      "/Users/meetpatel/opt/anaconda3/envs/ML/lib/python3.10/site-packages/sklearn/metrics/_regression.py:483: FutureWarning: 'squared' is deprecated in version 1.4 and will be removed in 1.6. To calculate the root mean squared error, use the function'root_mean_squared_error'.\n",
      "  warnings.warn(\n"
     ]
    }
   ],
   "source": [
    "from xgboost import XGBRegressor\n",
    "from sklearn.pipeline import Pipeline\n",
    "from sklearn.compose import ColumnTransformer\n",
    "from sklearn.impute import SimpleImputer\n",
    "from sklearn.preprocessing import StandardScaler, OneHotEncoder\n",
    "from sklearn.model_selection import train_test_split\n",
    "from sklearn.metrics import r2_score\n",
    "from sklearn.model_selection import GridSearchCV\n",
    "from sklearn.metrics import mean_squared_error\n",
    "from sklearn.model_selection import cross_val_score\n",
    "\n",
    "# Assume df contains your dataframe\n",
    "\n",
    "# Extract features and target variable from the dataframe\n",
    "X = df.drop(columns=['y'])\n",
    "y = df['y']\n",
    "\n",
    "# Identify categorical columns in the dataset\n",
    "categorical_cols = X.select_dtypes(include=['object']).columns\n",
    "numerical_cols = X.select_dtypes(exclude=['object']).columns\n",
    "\n",
    "# Split the data into training and testing sets\n",
    "X_train, X_test, y_train, y_test = train_test_split(X, y, test_size=0.2, random_state=42)\n",
    "\n",
    "# Preprocessing for numerical data\n",
    "numerical_transformer = Pipeline(steps=[\n",
    "    ('imputer', SimpleImputer(strategy='mean')),\n",
    "    ('scaler', StandardScaler())\n",
    "])\n",
    "\n",
    "# Preprocessing for categorical data\n",
    "categorical_transformer = Pipeline(steps=[\n",
    "    ('imputer', SimpleImputer(strategy='most_frequent')),\n",
    "    ('onehot', OneHotEncoder(handle_unknown='ignore'))\n",
    "])\n",
    "\n",
    "# Bundle preprocessing for numerical and categorical data\n",
    "preprocessor = ColumnTransformer(\n",
    "    transformers=[\n",
    "        ('num', numerical_transformer, numerical_cols),\n",
    "        ('cat', categorical_transformer, categorical_cols)\n",
    "    ])\n",
    "\n",
    "# Define the model\n",
    "model = XGBRegressor()\n",
    "\n",
    "# Create and evaluate the pipeline\n",
    "pipeline = Pipeline(steps=[('preprocessor', preprocessor),\n",
    "                           ('model', model)])\n",
    "\n",
    "# Fit the model\n",
    "pipeline.fit(X_train, y_train)\n",
    "\n",
    "# Make predictions\n",
    "y_pred_train = pipeline.predict(X_train)\n",
    "y_pred_test = pipeline.predict(X_test)\n",
    "\n",
    "\n",
    "rmse_train = mean_squared_error(y_train, y_pred_train, squared=False)\n",
    "rmse_test = mean_squared_error(y_test, y_pred_test, squared=False)\n",
    "\n",
    "print(\"RMSE on training set:\", rmse_train)\n",
    "print(\"RMSE on test set:\", rmse_test)\n",
    "\n",
    "# Calculate R^2 score for training set\n",
    "r2_train = r2_score(y_train, y_pred_train)\n",
    "\n",
    "# Calculate R^2 score for test set\n",
    "r2_test = r2_score(y_test, y_pred_test)\n",
    "\n",
    "print(\"R^2 score on training set:\", np.round(r2_train*100,1),\"%\")\n",
    "print(\"R^2 score on test set:\", np.round(r2_test*100,1),\"%\")\n"
   ]
  },
  {
   "cell_type": "code",
   "execution_count": null,
   "id": "28f2f38e",
   "metadata": {},
   "outputs": [],
   "source": []
  },
  {
   "cell_type": "code",
   "execution_count": 101,
   "id": "25f63b67",
   "metadata": {},
   "outputs": [],
   "source": [
    "\n",
    "# Apply preprocessing to the data\n",
    "X_train_processed = preprocessor.fit_transform(X_train)\n",
    "X_test_processed = preprocessor.transform(X_test)"
   ]
  },
  {
   "cell_type": "code",
   "execution_count": 102,
   "id": "ebb2ff9b",
   "metadata": {},
   "outputs": [
    {
     "name": "stdout",
     "output_type": "stream",
     "text": [
      "Best Parameters: {'learning_rate': 0.01, 'max_depth': 3, 'n_estimators': 300}\n"
     ]
    }
   ],
   "source": [
    "# Define the parameter grid for tuning\n",
    "param_grid = {\n",
    "    'n_estimators': [100, 200, 300],\n",
    "    'max_depth': [3, 5, 7],\n",
    "    'learning_rate': [0.01, 0.05, 0.1]\n",
    "}\n",
    "\n",
    "# Create XGBoost regressor\n",
    "xgb_model = XGBRegressor()\n",
    "\n",
    "# Create GridSearchCV object\n",
    "grid_search = GridSearchCV(estimator=xgb_model, param_grid=param_grid, cv=5, scoring='r2', n_jobs=-1)\n",
    "\n",
    "# Fit GridSearchCV to the data\n",
    "grid_search.fit(X_train_processed, y_train)\n",
    "\n",
    "# Get the best model and its parameters\n",
    "best_xgb_model = grid_search.best_estimator_\n",
    "best_parameters = grid_search.best_params_\n",
    "\n",
    "# Print the best parameters\n",
    "print(\"Best Parameters:\", best_parameters)"
   ]
  },
  {
   "cell_type": "code",
   "execution_count": 103,
   "id": "6feb7261",
   "metadata": {
    "scrolled": true
   },
   "outputs": [
    {
     "name": "stdout",
     "output_type": "stream",
     "text": [
      "Training RMSE score: 8.446219907946032\n",
      "Testing RMSE score: 7.905551673730968\n",
      "\n",
      "Training R^2 score: 56.0%\n",
      "Testing R^2 score: 59.8%\n"
     ]
    }
   ],
   "source": [
    "# Now, you can use the processed data for prediction\n",
    "y_train_pred = best_xgb_model.predict(X_train_processed)\n",
    "y_test_pred = best_xgb_model.predict(X_test_processed)\n",
    "\n",
    "# Calculate RMSE and R^2 scores\n",
    "RMSE_train = np.sqrt(mean_squared_error(y_train, y_train_pred))\n",
    "RMSE_test = np.sqrt(mean_squared_error(y_test, y_test_pred))\n",
    "\n",
    "print(f\"Training RMSE score: {RMSE_train}\")\n",
    "print(f\"Testing RMSE score: {RMSE_test}\")\n",
    "\n",
    "r2_train = r2_score(y_train, y_train_pred)\n",
    "r2_test = r2_score(y_test, y_test_pred)\n",
    "\n",
    "print(f\"\\nTraining R^2 score: {np.round(r2_train*100,1)}%\")\n",
    "print(f\"Testing R^2 score: {np.round(r2_test*100,1)}%\")"
   ]
  },
  {
   "cell_type": "code",
   "execution_count": 104,
   "id": "991509bb",
   "metadata": {},
   "outputs": [],
   "source": [
    "# predict test\n",
    "\n",
    "# final_test_df = pd.read_csv(\"test.csv\")\n",
    "\n",
    "# X_test = final_test_df\n",
    "# X_test_encoded = preprocessor.transform(X_test)\n",
    "\n",
    "# y_test_pred = best_xgb_model.predict(X_test_encoded)\n",
    "# y_test_pred\n",
    "\n",
    "\n",
    "# results_df = pd.DataFrame({\"ID\": X_test[\"ID\"],\"y\": y_test_pred})\n",
    "\n",
    "# # Save the DataFrame to a CSV file\n",
    "# results_df.to_csv(\"xgboost_all_features.csv\", index=False)\n",
    "\n"
   ]
  },
  {
   "cell_type": "code",
   "execution_count": 105,
   "id": "866b176a",
   "metadata": {},
   "outputs": [],
   "source": [
    "# Result with all features: \n",
    "# Training RMSE score: 7.987454825841536\n",
    "# Testing RMSE score: 7.8865637890695455\n",
    "\n",
    "# Training R^2 score: 60.6%\n",
    "# Testing R^2 score: 60.0%\n",
    "\n",
    "# Result with just top 21 features: \n",
    "# Training RMSE score: 8.154930588873281\n",
    "# Testing RMSE score: 7.818779802088263\n",
    "\n",
    "# Training R^2 score: 58.9%\n",
    "# Testing R^2 score: 60.7%\n",
    "\n",
    "\n",
    "# Result with just top 7 features: \n",
    "# Training RMSE score: 8.446219907946032\n",
    "# Testing RMSE score: 7.905551673730968\n",
    "\n",
    "# Training R^2 score: 56.0%\n",
    "# Testing R^2 score: 59.8%. But we got 54.65% in Submission!!"
   ]
  },
  {
   "cell_type": "code",
   "execution_count": 106,
   "id": "3bbba673",
   "metadata": {},
   "outputs": [
    {
     "data": {
      "text/plain": [
       "array([ 78.83769,  94.62347,  78.83769, ...,  94.39399, 112.24395,\n",
       "        94.62347], dtype=float32)"
      ]
     },
     "execution_count": 106,
     "metadata": {},
     "output_type": "execute_result"
    }
   ],
   "source": [
    "final_test_df = pd.read_csv(\"test.csv\")\n",
    "\n",
    "X_test = final_test_df\n",
    "X_test_encoded = preprocessor.transform(X_test)\n",
    "\n",
    "y_test_pred = best_xgb_model.predict(X_test_encoded)\n",
    "y_test_pred"
   ]
  },
  {
   "cell_type": "code",
   "execution_count": 107,
   "id": "3e720b8a",
   "metadata": {},
   "outputs": [],
   "source": [
    "results_df = pd.DataFrame({\"ID\": X_test[\"ID\"],\"y\": y_test_pred})\n",
    "\n",
    "# Save the DataFrame to a CSV file\n",
    "results_df.to_csv(\"xgboost.csv\", index=False)\n",
    "\n",
    "\n",
    "# Conclusion: \n",
    "\n",
    "# Approx. 90.03% of variation is captures by top 7 Features\n",
    "\n",
    "# Top 7 features: 'X314', 'X315', 'X119', 'X263', 'X118', 'X127', 'X136'"
   ]
  },
  {
   "cell_type": "code",
   "execution_count": null,
   "id": "ce91d605",
   "metadata": {},
   "outputs": [],
   "source": []
  },
  {
   "cell_type": "code",
   "execution_count": null,
   "id": "fde7cd68",
   "metadata": {},
   "outputs": [],
   "source": []
  }
 ],
 "metadata": {
  "kernelspec": {
   "display_name": "Python 3 (ipykernel)",
   "language": "python",
   "name": "python3"
  },
  "language_info": {
   "codemirror_mode": {
    "name": "ipython",
    "version": 3
   },
   "file_extension": ".py",
   "mimetype": "text/x-python",
   "name": "python",
   "nbconvert_exporter": "python",
   "pygments_lexer": "ipython3",
   "version": "3.10.13"
  }
 },
 "nbformat": 4,
 "nbformat_minor": 5
}
